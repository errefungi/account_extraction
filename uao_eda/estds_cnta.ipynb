{
 "cells": [
  {
   "cell_type": "code",
   "execution_count": 4,
   "metadata": {},
   "outputs": [],
   "source": [
    "import pandas as pd\n",
    "import re\n",
    "import fitz\n",
    "import os\n",
    "import requests\n",
    "from time import sleep"
   ]
  },
  {
   "cell_type": "markdown",
   "metadata": {},
   "source": [
    "### <B> CODIGO PARA OBTENER LOS STUDENT CODES"
   ]
  },
  {
   "cell_type": "code",
   "execution_count": 5,
   "metadata": {},
   "outputs": [
    {
     "name": "stdout",
     "output_type": "stream",
     "text": [
      "24754\n"
     ]
    }
   ],
   "source": [
    "with open(\"./codigos_uao.txt\", \"r\") as f:\n",
    "    codigos = f.read().splitlines()\n",
    "print(len(codigos))"
   ]
  },
  {
   "cell_type": "markdown",
   "metadata": {},
   "source": [
    "#### <b> <font color=\"#ffffff\"> CODIGO PARA DESCARGAR LOS PDFS"
   ]
  },
  {
   "cell_type": "code",
   "execution_count": 6,
   "metadata": {},
   "outputs": [],
   "source": [
    "# def get_estados_de_cuenta(codes: list):\n",
    "#     for i in codes:\n",
    "#         try:\n",
    "#             url = f\"http://wlapp.uao.edu.co/reports/rwservlet?connrepuao_ice&jobtype=jt_uao_ice&report=Estado_Cta_Web_Uao10g.rdf&destype=cache&desformat=pdf&mi_cliente={i}\"\n",
    "#             response = requests.get(url)\n",
    "#             with open(f\"../data/uao_ctas/{i}_ctadt.pdf\", \"wb\") as f:\n",
    "#                 f.write(response.content)\n",
    "#         except: pass"
   ]
  },
  {
   "cell_type": "markdown",
   "metadata": {},
   "source": [
    "#### <font color = #ffffff> <b> CODIGO DE LA FUNCION PARA CREAR EL DATAFRAME"
   ]
  },
  {
   "cell_type": "code",
   "execution_count": 7,
   "metadata": {},
   "outputs": [],
   "source": [
    "def create_data(archive_list: list):\n",
    "    data = []\n",
    "    del_files = 0\n",
    "    for archivo in archive_list:\n",
    "        try:\n",
    "            doc = fitz.open(f\"../data/uao_ctas/{archivo}\")\n",
    "            page1 = doc[0]\n",
    "\n",
    "            # una lista de tuplas con las cordenadas de cada palabra y la palabra en si.\n",
    "            words = page1.get_text(\"words\")\n",
    "\n",
    "            # editar el pdf para añadir el contenedor de los saldos.\n",
    "            x0, y0, x1, y1 = 472,46,502,57\n",
    "            rect = fitz.Rect(x0-10,y0-20,x1+62,y1)\n",
    "            page1.draw_rect(rect, color=[0,1,1,0], overlay=False,width=0.5)\n",
    "\n",
    "            # editar el pdf para añadir el contenedor del nombre y el programa.\n",
    "\n",
    "            x02, y02, x12, y12 = 180,95,240,109\n",
    "            rect2 = fitz.Rect(x02-150,y02-7,x12+350,y12+27)\n",
    "            page1.draw_rect(rect2, color=[0,1,1,0],width=0.5)\n",
    "\n",
    "        # TRABAJAMOS CON LOS DATOS QUE TIENEN RECTANGULOS\n",
    "            saldo_words_list = [word for word in words if fitz.Rect(word[:4]) in rect]\n",
    "            user_words_list = [word for word in words if fitz.Rect(word[:4]) in rect2]\n",
    "\n",
    "            saldo_words = [word[4] for word in saldo_words_list]\n",
    "            user_words = [word[4] for word in user_words_list]\n",
    "        # PROCESANDO DATOS SIN ESTRUCTURAS\n",
    "            program_name = \" \".join(user_words[0:user_words.index(\"Programa:\")])\n",
    "            student_name = \" \".join(user_words[user_words.index(\"Codigo:\")+1:user_words.index(\"Nombre:\")])\n",
    "            student_debt = \" \".join(saldo_words[0:saldo_words.index(\"Vencer:\")+1])\n",
    "            student_vencido = \" \".join(saldo_words[saldo_words.index(\"Vencido:\")-1:saldo_words.index(\"Vencido:\")+1])\n",
    "            data.append({\n",
    "                        \"programa\":program_name,\n",
    "                        \"nombre\":student_name, \n",
    "                        \"deuda\":int(student_debt.split()[0].replace(\",\", '')),\n",
    "                        \"vencido\":int(student_vencido.split()[0].replace(\",\", '')),})\n",
    "        except: \n",
    "            doc.close()\n",
    "            # print(f'{archivo} no se pudo procesar, será eliminado.')\n",
    "            os.remove(f\"../data/uao_ctas/{archivo}\")\n",
    "            del_files+=1\n",
    "    print(f\"Se eliminaron {del_files} archivos.\")\n",
    "    return data"
   ]
  },
  {
   "cell_type": "markdown",
   "metadata": {},
   "source": [
    "### TEST ZONE"
   ]
  },
  {
   "cell_type": "code",
   "execution_count": 8,
   "metadata": {},
   "outputs": [],
   "source": [
    "# doc = fitz.open(f\"../data/uao_ctas/{2186103}.pdf\")\n",
    "# page1 = doc[0]\n",
    "\n",
    "#         # una lista de tuplas con las cordenadas de cada palabra y la palabra en si.\n",
    "# words = page1.get_text(\"words\")\n",
    "\n",
    "#         # editar el pdf para añadir el contenedor de los saldos.\n",
    "# x0, y0, x1, y1 = 472,46,502,57\n",
    "# rect = fitz.Rect(x0-10,y0-20,x1+62,y1)\n",
    "# page1.draw_rect(rect, color=[0,1,1,0], overlay=False,width=0.5)\n",
    "\n",
    "#         # editar el pdf para añadir el contenedor del nombre y el programa.\n",
    "\n",
    "# x02, y02, x12, y12 = 180,95,240,109\n",
    "# rect2 = fitz.Rect(x02-150,y02-7,x12+350,y12+27)\n",
    "# page1.draw_rect(rect2, color=[0,1,1,0],width=0.5)\n",
    "\n",
    "#     # TRABAJAMOS CON LOS DATOS QUE TIENEN RECTANGULOS\n",
    "# saldo_words_list = [word for word in words if fitz.Rect(word[:4]) in rect]\n",
    "# user_words_list = [word for word in words if fitz.Rect(word[:4]) in rect2]\n",
    "\n",
    "# saldo_words = [word[4] for word in saldo_words_list]\n",
    "# user_words = [word[4] for word in user_words_list]\n",
    "#     # PROCESANDO DATOS SIN ESTRUCTURAS\n",
    "# program_name = \" \".join(user_words[0:user_words.index(\"Programa:\")])\n",
    "# student_name = \" \".join(user_words[user_words.index(\"Codigo:\")+1:user_words.index(\"Nombre:\")])\n",
    "# student_debt = \" \".join(saldo_words[0:saldo_words.index(\"Vencer:\")+1])"
   ]
  },
  {
   "cell_type": "code",
   "execution_count": 9,
   "metadata": {},
   "outputs": [],
   "source": [
    "# #2117878\n",
    "\n",
    "# url1 = \"http://wlapp.uao.edu.co/reports/rwservlet?connrepuao_ice&jobtype=jt_uao_ice&report=Estado_Cta_Web_Uao10g.rdf&destype=cache&desformat=pdf&mi_cliente=2040223\"\n",
    "# response1 = requests.get(url1)\n",
    "\n",
    "# url2 = \"http://wlapp.uao.edu.co/reports/rwservlet?connrepuao_ice&jobtype=jt_uao_ice&report=Estado_Cta_Web_Uao10g.rdf&destype=cache&desformat=pdf&mi_cliente=2222159\"\n",
    "# response2 = requests.get(url2)"
   ]
  },
  {
   "cell_type": "code",
   "execution_count": 10,
   "metadata": {},
   "outputs": [],
   "source": [
    "# archivos = os.listdir(\"../data/uao_ctas\")\n",
    "# for i in archivos:\n",
    "#     with open(f\"../data/uao_ctas/{i}\", \"rb\") as f:\n",
    "#             print(f\"{i}: {len(f.read())}\")\n",
    "# print(len(response1.content))\n",
    "# print(len(response2.content))"
   ]
  },
  {
   "cell_type": "code",
   "execution_count": 11,
   "metadata": {},
   "outputs": [],
   "source": [
    "# def list_splitter(lst: list,n: int) -> list:\n",
    "#     return [lst[i::n] for i in range(n)]\n",
    "\n",
    "# codes_splitted = list_splitter(codigos, 1000)"
   ]
  },
  {
   "cell_type": "markdown",
   "metadata": {},
   "source": [
    "## <b> USANDO EL CODIGO PARA HACER EL ANALISIS"
   ]
  },
  {
   "cell_type": "code",
   "execution_count": 12,
   "metadata": {},
   "outputs": [
    {
     "data": {
      "text/plain": [
       "3484"
      ]
     },
     "execution_count": 12,
     "metadata": {},
     "output_type": "execute_result"
    }
   ],
   "source": [
    "archivos = os.listdir(\"../data/uao_ctas\")\n",
    "len(archivos)"
   ]
  },
  {
   "cell_type": "code",
   "execution_count": 13,
   "metadata": {},
   "outputs": [
    {
     "name": "stdout",
     "output_type": "stream",
     "text": [
      "Se eliminaron 358 archivos.\n"
     ]
    }
   ],
   "source": [
    "data = create_data(archivos)"
   ]
  },
  {
   "cell_type": "code",
   "execution_count": 14,
   "metadata": {},
   "outputs": [],
   "source": [
    "df = pd.DataFrame(data)\n",
    "df.to_csv(\"../data/uao_ctas.csv\", index=False)"
   ]
  }
 ],
 "metadata": {
  "kernelspec": {
   "display_name": "Python 3.9.7 64-bit",
   "language": "python",
   "name": "python3"
  },
  "language_info": {
   "codemirror_mode": {
    "name": "ipython",
    "version": 3
   },
   "file_extension": ".py",
   "mimetype": "text/x-python",
   "name": "python",
   "nbconvert_exporter": "python",
   "pygments_lexer": "ipython3",
   "version": "3.9.7"
  },
  "orig_nbformat": 4,
  "vscode": {
   "interpreter": {
    "hash": "b9fd46ac3f217355965d14cc08653fe69e2ea50c8aa5fb2f0f8a8d7aa4203388"
   }
  }
 },
 "nbformat": 4,
 "nbformat_minor": 2
}
